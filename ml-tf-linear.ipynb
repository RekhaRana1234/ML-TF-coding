{
 "cells": [
  {
   "cell_type": "markdown",
   "metadata": {},
   "source": [
    "Tensorflow Custom Equation testing y = 4x + 3"
   ]
  },
  {
   "cell_type": "code",
   "execution_count": 1,
   "metadata": {},
   "outputs": [
    {
     "name": "stdout",
     "output_type": "stream",
     "text": [
      "-40.0 degree celsis = -40.0 fahrenheit values\n",
      "-10.0 degree celsis = 14.0 fahrenheit values\n",
      "0.0 degree celsis = 32.0 fahrenheit values\n",
      "8.0 degree celsis = 46.0 fahrenheit values\n",
      "15.0 degree celsis = 59.0 fahrenheit values\n",
      "22.0 degree celsis = 72.0 fahrenheit values\n",
      "38.0 degree celsis = 100.0 fahrenheit values\n",
      "Finished training\n",
      "1/1 [==============================] - 0s 74ms/step\n",
      "[[211.30722]]\n",
      "layer variables: [array([[1.8246912]], dtype=float32), array([28.838104], dtype=float32)]\n",
      "1/1 [==============================] - 0s 52ms/step\n",
      "[[211.74744]]\n",
      "These are the l0 variables: [array([[-1.1906253 ,  0.3445773 , -0.3611643 ,  0.25185615]],\n",
      "      dtype=float32), array([-3.3985074, -2.224096 ,  2.510057 ,  1.2765214], dtype=float32)]\n",
      "These are the l1 variables: [array([[ 1.1650448 , -0.8155451 , -0.1441621 , -0.83566076],\n",
      "       [ 0.5931307 ,  0.01430446, -0.49298257, -1.3316293 ],\n",
      "       [-1.0427222 ,  0.14046098, -0.25518373,  1.0306364 ],\n",
      "       [-0.32692003, -0.77249366, -1.3292094 ,  0.27177337]],\n",
      "      dtype=float32), array([-3.2707956,  2.9649918, -1.4300143,  3.396319 ], dtype=float32)]\n",
      "These are the l2 variables: [array([[-1.236499  ],\n",
      "       [ 0.63563883],\n",
      "       [-0.09700234],\n",
      "       [ 0.9104975 ]], dtype=float32), array([3.1478307], dtype=float32)]\n"
     ]
    },
    {
     "data": {
      "image/png": "[encoded data removed]",
      "text/plain": [
       "<Figure size 432x288 with 1 Axes>"
      ]
     },
     "metadata": {
      "needs_background": "light"
     },
     "output_type": "display_data"
    }
   ],
   "source": [
    "import tensorflow as tf\n",
    "import numpy as np\n",
    "import logging\n",
    "\n",
    "celsis = np.array([-40, -10, 0, 8, 15, 22, 38], dtype=float)\n",
    "fahrenheit = np.array([-40, 14, 32, 46, 59, 72, 100], dtype=float)\n",
    "\n",
    "for i,c in enumerate(celsis):\n",
    "    print(\"{} degree celsis = {} fahrenheit values\".format(c, fahrenheit[i]))\n",
    "\n",
    "layer = tf.keras.layers.Dense(units=1, input_shape=[1])\n",
    "model = tf.keras.Sequential([layer])\n",
    "model.compile(loss='mean_squared_error', optimizer=tf.keras.optimizers.Adam(0.1))\n",
    "history = model.fit(celsis, fahrenheit, epochs=500, verbose=False)\n",
    "print(\"Finished training\")\n",
    "\n",
    "\n",
    "import matplotlib.pyplot as plt\n",
    "plt.xlabel('Epochs')\n",
    "plt.ylabel('loss')\n",
    "plt.plot(history.history['loss'])\n",
    "\n",
    "print(model.predict([100.0]))\n",
    "print(\"layer variables: {}\".format(layer.get_weights()))\n",
    "\n",
    "\n",
    "l0 = tf.keras.layers.Dense(units=4, input_shape=[1])\n",
    "l1 = tf.keras.layers.Dense(units=4)\n",
    "l2 = tf.keras.layers.Dense(units=1)\n",
    "\n",
    "model = tf.keras.Sequential([l0, l1, l2])\n",
    "\n",
    "model.compile(loss='mean_squared_error', optimizer=tf.keras.optimizers.Adam(0.1))\n",
    "\n",
    "model.fit(celsis, fahrenheit, epochs=500, verbose=False)\n",
    "\n",
    "print(model.predict([100.0]))\n",
    "\n",
    "\n",
    "print(\"These are the l0 variables: {}\".format(l0.get_weights()))\n",
    "print(\"These are the l1 variables: {}\".format(l1.get_weights()))\n",
    "print(\"These are the l2 variables: {}\".format(l2.get_weights()))"
   ]
  },
  {
   "cell_type": "code",
   "execution_count": null,
   "metadata": {},
   "outputs": [],
   "source": []
  }
 ],
 "metadata": {
  "kernelspec": {
   "display_name": "Python 3.9.7 ('base')",
   "language": "python",
   "name": "python3"
  },
  "language_info": {
   "codemirror_mode": {
    "name": "ipython",
    "version": 3
   },
   "file_extension": ".py",
   "mimetype": "text/x-python",
   "name": "python",
   "nbconvert_exporter": "python",
   "pygments_lexer": "ipython3",
   "version": "3.9.7"
  },
  "orig_nbformat": 4,
  "vscode": {
   "interpreter": {
    "hash": "e2f0f33d8a11ed6172cce18594bc18dc88a1c6039360d63f6013e97a4bac0997"
   }
  }
 },
 "nbformat": 4,
 "nbformat_minor": 2
}
