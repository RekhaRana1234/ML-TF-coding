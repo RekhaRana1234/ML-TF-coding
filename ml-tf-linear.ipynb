{
 "cells": [
  {
   "cell_type": "markdown",
   "metadata": {},
   "source": [
    "Tensorflow Custom Equation testing y = 4x + 3"
   ]
  },
  {
   "cell_type": "code",
   "execution_count": 46,
   "metadata": {},
   "outputs": [
    {
     "name": "stdout",
     "output_type": "stream",
     "text": [
      "1/1 [==============================] - 0s 50ms/step\n",
      "[[402.9999]]\n",
      "layer varibales is : [array([[3.999999]], dtype=float32), array([3.0000012], dtype=float32)]\n"
     ]
    }
   ],
   "source": [
    "import tensorflow as tf\n",
    "import numpy as np\n",
    "import matplotlib.pyplot as plt\n",
    "\n",
    "input_d = np.array([-2, -1, 0, 1, 2, 3, 4 ], dtype=float)\n",
    "output = np.array([-5, -1, 3, 7, 11, 15, 19], dtype=float)\n",
    "\n",
    "\n",
    "# defining layer\n",
    "epochs_value = 500\n",
    "\n",
    "layer = tf.keras.layers.Dense(units=1, input_shape=[1])\n",
    "\n",
    "model = tf.keras.Sequential([layer])\n",
    "\n",
    "model.compile(loss='mean_squared_error', optimizer=tf.keras.optimizers.Adam(0.1))\n",
    "\n",
    "model.fit(input_d, output, epochs=epochs_value, verbose=False)\n",
    "\n",
    "print(model.predict([100.0]))\n",
    "\n",
    "print(\"layer varibales is : {}\".format(layer.get_weights()))\n",
    "\n"
   ]
  },
  {
   "cell_type": "code",
   "execution_count": 47,
   "metadata": {},
   "outputs": [
    {
     "name": "stdout",
     "output_type": "stream",
     "text": [
      "1/1 [==============================] - 0s 37ms/step\n",
      "[[802.9998]]\n"
     ]
    }
   ],
   "source": [
    "print(model.predict([200.0]))"
   ]
  },
  {
   "cell_type": "code",
   "execution_count": null,
   "metadata": {},
   "outputs": [],
   "source": []
  }
 ],
 "metadata": {
  "kernelspec": {
   "display_name": "Python 3.9.7 ('base')",
   "language": "python",
   "name": "python3"
  },
  "language_info": {
   "codemirror_mode": {
    "name": "ipython",
    "version": 3
   },
   "file_extension": ".py",
   "mimetype": "text/x-python",
   "name": "python",
   "nbconvert_exporter": "python",
   "pygments_lexer": "ipython3",
   "version": "3.9.7"
  },
  "orig_nbformat": 4,
  "vscode": {
   "interpreter": {
    "hash": "e2f0f33d8a11ed6172cce18594bc18dc88a1c6039360d63f6013e97a4bac0997"
   }
  }
 },
 "nbformat": 4,
 "nbformat_minor": 2
}
